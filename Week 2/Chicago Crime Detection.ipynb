{
 "cells": [
  {
   "cell_type": "code",
   "execution_count": 1,
   "metadata": {},
   "outputs": [],
   "source": [
    "import pandas as pd\n",
    "import numpy as np\n",
    "import seaborn as sns\n",
    "import matplotlib.pyplot as plt\n",
    "%matplotlib inline"
   ]
  },
  {
   "cell_type": "code",
   "execution_count": 2,
   "metadata": {},
   "outputs": [
    {
     "name": "stderr",
     "output_type": "stream",
     "text": [
      "C:\\Users\\SouravKumar\\anaconda3\\lib\\site-packages\\IPython\\core\\interactiveshell.py:3063: DtypeWarning: Columns (7,8) have mixed types.Specify dtype option on import or set low_memory=False.\n",
      "  interactivity=interactivity, compiler=compiler, result=result)\n"
     ]
    }
   ],
   "source": [
    "df=pd.read_csv('Chicago_Crime_Detective.csv')"
   ]
  },
  {
   "cell_type": "code",
   "execution_count": 3,
   "metadata": {},
   "outputs": [
    {
     "data": {
      "text/html": [
       "<div>\n",
       "<style scoped>\n",
       "    .dataframe tbody tr th:only-of-type {\n",
       "        vertical-align: middle;\n",
       "    }\n",
       "\n",
       "    .dataframe tbody tr th {\n",
       "        vertical-align: top;\n",
       "    }\n",
       "\n",
       "    .dataframe thead th {\n",
       "        text-align: right;\n",
       "    }\n",
       "</style>\n",
       "<table border=\"1\" class=\"dataframe\">\n",
       "  <thead>\n",
       "    <tr style=\"text-align: right;\">\n",
       "      <th></th>\n",
       "      <th>Unnamed: 0</th>\n",
       "      <th>ID</th>\n",
       "      <th>Date</th>\n",
       "      <th>LocationDescription</th>\n",
       "      <th>Arrest</th>\n",
       "      <th>Domestic</th>\n",
       "      <th>Beat</th>\n",
       "      <th>District</th>\n",
       "      <th>CommunityArea</th>\n",
       "      <th>Year</th>\n",
       "    </tr>\n",
       "  </thead>\n",
       "  <tbody>\n",
       "    <tr>\n",
       "      <th>0</th>\n",
       "      <td>0</td>\n",
       "      <td>8951354</td>\n",
       "      <td>12/31/12 23:15</td>\n",
       "      <td>STREET</td>\n",
       "      <td>False</td>\n",
       "      <td>False</td>\n",
       "      <td>623</td>\n",
       "      <td>6</td>\n",
       "      <td>69</td>\n",
       "      <td>2012</td>\n",
       "    </tr>\n",
       "    <tr>\n",
       "      <th>1</th>\n",
       "      <td>1</td>\n",
       "      <td>8951141</td>\n",
       "      <td>12/31/12 22:00</td>\n",
       "      <td>STREET</td>\n",
       "      <td>False</td>\n",
       "      <td>False</td>\n",
       "      <td>1213</td>\n",
       "      <td>12</td>\n",
       "      <td>24</td>\n",
       "      <td>2012</td>\n",
       "    </tr>\n",
       "    <tr>\n",
       "      <th>2</th>\n",
       "      <td>2</td>\n",
       "      <td>8952745</td>\n",
       "      <td>12/31/12 22:00</td>\n",
       "      <td>RESIDENTIAL YARD (FRONT/BACK)</td>\n",
       "      <td>False</td>\n",
       "      <td>False</td>\n",
       "      <td>1622</td>\n",
       "      <td>16</td>\n",
       "      <td>11</td>\n",
       "      <td>2012</td>\n",
       "    </tr>\n",
       "    <tr>\n",
       "      <th>3</th>\n",
       "      <td>3</td>\n",
       "      <td>8952223</td>\n",
       "      <td>12/31/12 22:00</td>\n",
       "      <td>STREET</td>\n",
       "      <td>False</td>\n",
       "      <td>False</td>\n",
       "      <td>724</td>\n",
       "      <td>7</td>\n",
       "      <td>67</td>\n",
       "      <td>2012</td>\n",
       "    </tr>\n",
       "    <tr>\n",
       "      <th>4</th>\n",
       "      <td>4</td>\n",
       "      <td>8951608</td>\n",
       "      <td>12/31/12 21:30</td>\n",
       "      <td>STREET</td>\n",
       "      <td>False</td>\n",
       "      <td>False</td>\n",
       "      <td>211</td>\n",
       "      <td>2</td>\n",
       "      <td>35</td>\n",
       "      <td>2012</td>\n",
       "    </tr>\n",
       "  </tbody>\n",
       "</table>\n",
       "</div>"
      ],
      "text/plain": [
       "   Unnamed: 0       ID            Date            LocationDescription  Arrest  \\\n",
       "0           0  8951354  12/31/12 23:15                         STREET   False   \n",
       "1           1  8951141  12/31/12 22:00                         STREET   False   \n",
       "2           2  8952745  12/31/12 22:00  RESIDENTIAL YARD (FRONT/BACK)   False   \n",
       "3           3  8952223  12/31/12 22:00                         STREET   False   \n",
       "4           4  8951608  12/31/12 21:30                         STREET   False   \n",
       "\n",
       "   Domestic  Beat District CommunityArea  Year  \n",
       "0     False   623        6            69  2012  \n",
       "1     False  1213       12            24  2012  \n",
       "2     False  1622       16            11  2012  \n",
       "3     False   724        7            67  2012  \n",
       "4     False   211        2            35  2012  "
      ]
     },
     "execution_count": 3,
     "metadata": {},
     "output_type": "execute_result"
    }
   ],
   "source": [
    "df.head()"
   ]
  },
  {
   "cell_type": "code",
   "execution_count": 4,
   "metadata": {},
   "outputs": [
    {
     "data": {
      "text/html": [
       "<div>\n",
       "<style scoped>\n",
       "    .dataframe tbody tr th:only-of-type {\n",
       "        vertical-align: middle;\n",
       "    }\n",
       "\n",
       "    .dataframe tbody tr th {\n",
       "        vertical-align: top;\n",
       "    }\n",
       "\n",
       "    .dataframe thead th {\n",
       "        text-align: right;\n",
       "    }\n",
       "</style>\n",
       "<table border=\"1\" class=\"dataframe\">\n",
       "  <thead>\n",
       "    <tr style=\"text-align: right;\">\n",
       "      <th></th>\n",
       "      <th>Unnamed: 0</th>\n",
       "      <th>ID</th>\n",
       "      <th>Date</th>\n",
       "      <th>LocationDescription</th>\n",
       "      <th>Arrest</th>\n",
       "      <th>Domestic</th>\n",
       "      <th>Beat</th>\n",
       "      <th>District</th>\n",
       "      <th>CommunityArea</th>\n",
       "      <th>Year</th>\n",
       "    </tr>\n",
       "  </thead>\n",
       "  <tbody>\n",
       "    <tr>\n",
       "      <th>0</th>\n",
       "      <td>0</td>\n",
       "      <td>8951354</td>\n",
       "      <td>2012-12-31 23:15:00</td>\n",
       "      <td>STREET</td>\n",
       "      <td>False</td>\n",
       "      <td>False</td>\n",
       "      <td>623</td>\n",
       "      <td>6</td>\n",
       "      <td>69</td>\n",
       "      <td>2012</td>\n",
       "    </tr>\n",
       "    <tr>\n",
       "      <th>1</th>\n",
       "      <td>1</td>\n",
       "      <td>8951141</td>\n",
       "      <td>2012-12-31 22:00:00</td>\n",
       "      <td>STREET</td>\n",
       "      <td>False</td>\n",
       "      <td>False</td>\n",
       "      <td>1213</td>\n",
       "      <td>12</td>\n",
       "      <td>24</td>\n",
       "      <td>2012</td>\n",
       "    </tr>\n",
       "    <tr>\n",
       "      <th>2</th>\n",
       "      <td>2</td>\n",
       "      <td>8952745</td>\n",
       "      <td>2012-12-31 22:00:00</td>\n",
       "      <td>RESIDENTIAL YARD (FRONT/BACK)</td>\n",
       "      <td>False</td>\n",
       "      <td>False</td>\n",
       "      <td>1622</td>\n",
       "      <td>16</td>\n",
       "      <td>11</td>\n",
       "      <td>2012</td>\n",
       "    </tr>\n",
       "    <tr>\n",
       "      <th>3</th>\n",
       "      <td>3</td>\n",
       "      <td>8952223</td>\n",
       "      <td>2012-12-31 22:00:00</td>\n",
       "      <td>STREET</td>\n",
       "      <td>False</td>\n",
       "      <td>False</td>\n",
       "      <td>724</td>\n",
       "      <td>7</td>\n",
       "      <td>67</td>\n",
       "      <td>2012</td>\n",
       "    </tr>\n",
       "    <tr>\n",
       "      <th>4</th>\n",
       "      <td>4</td>\n",
       "      <td>8951608</td>\n",
       "      <td>2012-12-31 21:30:00</td>\n",
       "      <td>STREET</td>\n",
       "      <td>False</td>\n",
       "      <td>False</td>\n",
       "      <td>211</td>\n",
       "      <td>2</td>\n",
       "      <td>35</td>\n",
       "      <td>2012</td>\n",
       "    </tr>\n",
       "  </tbody>\n",
       "</table>\n",
       "</div>"
      ],
      "text/plain": [
       "   Unnamed: 0       ID                Date            LocationDescription  \\\n",
       "0           0  8951354 2012-12-31 23:15:00                         STREET   \n",
       "1           1  8951141 2012-12-31 22:00:00                         STREET   \n",
       "2           2  8952745 2012-12-31 22:00:00  RESIDENTIAL YARD (FRONT/BACK)   \n",
       "3           3  8952223 2012-12-31 22:00:00                         STREET   \n",
       "4           4  8951608 2012-12-31 21:30:00                         STREET   \n",
       "\n",
       "   Arrest  Domestic  Beat District CommunityArea  Year  \n",
       "0   False     False   623        6            69  2012  \n",
       "1   False     False  1213       12            24  2012  \n",
       "2   False     False  1622       16            11  2012  \n",
       "3   False     False   724        7            67  2012  \n",
       "4   False     False   211        2            35  2012  "
      ]
     },
     "execution_count": 4,
     "metadata": {},
     "output_type": "execute_result"
    }
   ],
   "source": [
    "df['Date']=pd.to_datetime(df.Date)\n",
    "df.head()"
   ]
  },
  {
   "cell_type": "code",
   "execution_count": 14,
   "metadata": {},
   "outputs": [
    {
     "data": {
      "text/plain": [
       "0        2012-12-31 23:15:00\n",
       "1        2012-12-31 22:00:00\n",
       "2        2012-12-31 22:00:00\n",
       "3        2012-12-31 22:00:00\n",
       "4        2012-12-31 21:30:00\n",
       "                 ...        \n",
       "191634   2001-01-01 00:05:00\n",
       "191638   2001-01-01 00:01:00\n",
       "191639   2001-01-01 00:01:00\n",
       "191637   2001-01-01 00:01:00\n",
       "191640   2001-01-01 00:01:00\n",
       "Name: Date, Length: 191641, dtype: datetime64[ns]"
      ]
     },
     "execution_count": 14,
     "metadata": {},
     "output_type": "execute_result"
    }
   ],
   "source": [
    "df.Date.sort_values(ascending=False)"
   ]
  },
  {
   "cell_type": "code",
   "execution_count": null,
   "metadata": {},
   "outputs": [],
   "source": []
  },
  {
   "cell_type": "code",
   "execution_count": 63,
   "metadata": {},
   "outputs": [
    {
     "data": {
      "text/html": [
       "<div>\n",
       "<style scoped>\n",
       "    .dataframe tbody tr th:only-of-type {\n",
       "        vertical-align: middle;\n",
       "    }\n",
       "\n",
       "    .dataframe tbody tr th {\n",
       "        vertical-align: top;\n",
       "    }\n",
       "\n",
       "    .dataframe thead th {\n",
       "        text-align: right;\n",
       "    }\n",
       "</style>\n",
       "<table border=\"1\" class=\"dataframe\">\n",
       "  <thead>\n",
       "    <tr style=\"text-align: right;\">\n",
       "      <th></th>\n",
       "      <th>Unnamed: 0</th>\n",
       "      <th>ID</th>\n",
       "      <th>Date</th>\n",
       "      <th>LocationDescription</th>\n",
       "      <th>Arrest</th>\n",
       "      <th>Domestic</th>\n",
       "      <th>Beat</th>\n",
       "      <th>District</th>\n",
       "      <th>CommunityArea</th>\n",
       "      <th>Year</th>\n",
       "      <th>weekday</th>\n",
       "      <th>year</th>\n",
       "      <th>Month</th>\n",
       "    </tr>\n",
       "  </thead>\n",
       "  <tbody>\n",
       "    <tr>\n",
       "      <th>0</th>\n",
       "      <td>0</td>\n",
       "      <td>8951354</td>\n",
       "      <td>2012-12-31 23:15:00</td>\n",
       "      <td>STREET</td>\n",
       "      <td>False</td>\n",
       "      <td>False</td>\n",
       "      <td>623</td>\n",
       "      <td>6</td>\n",
       "      <td>69</td>\n",
       "      <td>2012</td>\n",
       "      <td>0</td>\n",
       "      <td>2012</td>\n",
       "      <td>12</td>\n",
       "    </tr>\n",
       "    <tr>\n",
       "      <th>1</th>\n",
       "      <td>1</td>\n",
       "      <td>8951141</td>\n",
       "      <td>2012-12-31 22:00:00</td>\n",
       "      <td>STREET</td>\n",
       "      <td>False</td>\n",
       "      <td>False</td>\n",
       "      <td>1213</td>\n",
       "      <td>12</td>\n",
       "      <td>24</td>\n",
       "      <td>2012</td>\n",
       "      <td>0</td>\n",
       "      <td>2012</td>\n",
       "      <td>12</td>\n",
       "    </tr>\n",
       "    <tr>\n",
       "      <th>2</th>\n",
       "      <td>2</td>\n",
       "      <td>8952745</td>\n",
       "      <td>2012-12-31 22:00:00</td>\n",
       "      <td>RESIDENTIAL YARD (FRONT/BACK)</td>\n",
       "      <td>False</td>\n",
       "      <td>False</td>\n",
       "      <td>1622</td>\n",
       "      <td>16</td>\n",
       "      <td>11</td>\n",
       "      <td>2012</td>\n",
       "      <td>0</td>\n",
       "      <td>2012</td>\n",
       "      <td>12</td>\n",
       "    </tr>\n",
       "    <tr>\n",
       "      <th>3</th>\n",
       "      <td>3</td>\n",
       "      <td>8952223</td>\n",
       "      <td>2012-12-31 22:00:00</td>\n",
       "      <td>STREET</td>\n",
       "      <td>False</td>\n",
       "      <td>False</td>\n",
       "      <td>724</td>\n",
       "      <td>7</td>\n",
       "      <td>67</td>\n",
       "      <td>2012</td>\n",
       "      <td>0</td>\n",
       "      <td>2012</td>\n",
       "      <td>12</td>\n",
       "    </tr>\n",
       "    <tr>\n",
       "      <th>4</th>\n",
       "      <td>4</td>\n",
       "      <td>8951608</td>\n",
       "      <td>2012-12-31 21:30:00</td>\n",
       "      <td>STREET</td>\n",
       "      <td>False</td>\n",
       "      <td>False</td>\n",
       "      <td>211</td>\n",
       "      <td>2</td>\n",
       "      <td>35</td>\n",
       "      <td>2012</td>\n",
       "      <td>0</td>\n",
       "      <td>2012</td>\n",
       "      <td>12</td>\n",
       "    </tr>\n",
       "  </tbody>\n",
       "</table>\n",
       "</div>"
      ],
      "text/plain": [
       "   Unnamed: 0       ID                Date            LocationDescription  \\\n",
       "0           0  8951354 2012-12-31 23:15:00                         STREET   \n",
       "1           1  8951141 2012-12-31 22:00:00                         STREET   \n",
       "2           2  8952745 2012-12-31 22:00:00  RESIDENTIAL YARD (FRONT/BACK)   \n",
       "3           3  8952223 2012-12-31 22:00:00                         STREET   \n",
       "4           4  8951608 2012-12-31 21:30:00                         STREET   \n",
       "\n",
       "   Arrest  Domestic  Beat District CommunityArea  Year  weekday  year  Month  \n",
       "0   False     False   623        6            69  2012        0  2012     12  \n",
       "1   False     False  1213       12            24  2012        0  2012     12  \n",
       "2   False     False  1622       16            11  2012        0  2012     12  \n",
       "3   False     False   724        7            67  2012        0  2012     12  \n",
       "4   False     False   211        2            35  2012        0  2012     12  "
      ]
     },
     "execution_count": 63,
     "metadata": {},
     "output_type": "execute_result"
    }
   ],
   "source": [
    "df['Month']=df.Date.dt.month\n",
    "df.head()"
   ]
  },
  {
   "cell_type": "code",
   "execution_count": 90,
   "metadata": {},
   "outputs": [],
   "source": [
    "df['Arrest']=df.Arrest.astype(int)"
   ]
  },
  {
   "cell_type": "code",
   "execution_count": 41,
   "metadata": {},
   "outputs": [
    {
     "data": {
      "text/plain": [
       "10    16977\n",
       "7     16733\n",
       "12    16417\n",
       "1     16325\n",
       "5     16298\n",
       "8     16288\n",
       "9     16009\n",
       "3     15895\n",
       "6     15894\n",
       "11    15765\n",
       "4     15086\n",
       "2     13954\n",
       "Name: Month, dtype: int64"
      ]
     },
     "execution_count": 41,
     "metadata": {},
     "output_type": "execute_result"
    }
   ],
   "source": [
    "df.Month.value_counts()"
   ]
  },
  {
   "cell_type": "code",
   "execution_count": 43,
   "metadata": {},
   "outputs": [],
   "source": [
    "df.drop(['Month'],axis=1,inplace=True)"
   ]
  },
  {
   "cell_type": "code",
   "execution_count": 58,
   "metadata": {},
   "outputs": [
    {
     "data": {
      "text/plain": [
       "<matplotlib.axes._subplots.AxesSubplot at 0x142b6c4fec8>"
      ]
     },
     "execution_count": 58,
     "metadata": {},
     "output_type": "execute_result"
    },
    {
     "data": {
      "image/png": "[encoded data removed]",
      "text/plain": [
       "<Figure size 432x288 with 1 Axes>"
      ]
     },
     "metadata": {
      "needs_background": "light"
     },
     "output_type": "display_data"
    }
   ],
   "source": [
    "df['year']=df.Date.dt.year\n",
    "df.head()\n",
    "df.year.value_counts().sort_index().plot()"
   ]
  },
  {
   "cell_type": "code",
   "execution_count": 52,
   "metadata": {},
   "outputs": [
    {
     "data": {
      "text/plain": [
       "4    28545\n",
       "5    27406\n",
       "2    27387\n",
       "0    27372\n",
       "1    27141\n",
       "3    27067\n",
       "6    26723\n",
       "Name: Date, dtype: int64"
      ]
     },
     "execution_count": 52,
     "metadata": {},
     "output_type": "execute_result"
    }
   ],
   "source": [
    "df.Date.dt.weekday.value_counts()"
   ]
  },
  {
   "cell_type": "code",
   "execution_count": 91,
   "metadata": {},
   "outputs": [
    {
     "data": {
      "text/html": [
       "<div>\n",
       "<style scoped>\n",
       "    .dataframe tbody tr th:only-of-type {\n",
       "        vertical-align: middle;\n",
       "    }\n",
       "\n",
       "    .dataframe tbody tr th {\n",
       "        vertical-align: top;\n",
       "    }\n",
       "\n",
       "    .dataframe thead th {\n",
       "        text-align: right;\n",
       "    }\n",
       "</style>\n",
       "<table border=\"1\" class=\"dataframe\">\n",
       "  <thead>\n",
       "    <tr style=\"text-align: right;\">\n",
       "      <th></th>\n",
       "      <th>Unnamed: 0</th>\n",
       "      <th>ID</th>\n",
       "      <th>Date</th>\n",
       "      <th>LocationDescription</th>\n",
       "      <th>Arrest</th>\n",
       "      <th>Domestic</th>\n",
       "      <th>Beat</th>\n",
       "      <th>District</th>\n",
       "      <th>CommunityArea</th>\n",
       "      <th>Year</th>\n",
       "      <th>weekday</th>\n",
       "      <th>year</th>\n",
       "      <th>Month</th>\n",
       "    </tr>\n",
       "  </thead>\n",
       "  <tbody>\n",
       "    <tr>\n",
       "      <th>0</th>\n",
       "      <td>0</td>\n",
       "      <td>8951354</td>\n",
       "      <td>2012-12-31 23:15:00</td>\n",
       "      <td>STREET</td>\n",
       "      <td>0</td>\n",
       "      <td>False</td>\n",
       "      <td>623</td>\n",
       "      <td>6</td>\n",
       "      <td>69</td>\n",
       "      <td>2012</td>\n",
       "      <td>0</td>\n",
       "      <td>2012</td>\n",
       "      <td>12</td>\n",
       "    </tr>\n",
       "    <tr>\n",
       "      <th>1</th>\n",
       "      <td>1</td>\n",
       "      <td>8951141</td>\n",
       "      <td>2012-12-31 22:00:00</td>\n",
       "      <td>STREET</td>\n",
       "      <td>0</td>\n",
       "      <td>False</td>\n",
       "      <td>1213</td>\n",
       "      <td>12</td>\n",
       "      <td>24</td>\n",
       "      <td>2012</td>\n",
       "      <td>0</td>\n",
       "      <td>2012</td>\n",
       "      <td>12</td>\n",
       "    </tr>\n",
       "    <tr>\n",
       "      <th>2</th>\n",
       "      <td>2</td>\n",
       "      <td>8952745</td>\n",
       "      <td>2012-12-31 22:00:00</td>\n",
       "      <td>RESIDENTIAL YARD (FRONT/BACK)</td>\n",
       "      <td>0</td>\n",
       "      <td>False</td>\n",
       "      <td>1622</td>\n",
       "      <td>16</td>\n",
       "      <td>11</td>\n",
       "      <td>2012</td>\n",
       "      <td>0</td>\n",
       "      <td>2012</td>\n",
       "      <td>12</td>\n",
       "    </tr>\n",
       "    <tr>\n",
       "      <th>3</th>\n",
       "      <td>3</td>\n",
       "      <td>8952223</td>\n",
       "      <td>2012-12-31 22:00:00</td>\n",
       "      <td>STREET</td>\n",
       "      <td>0</td>\n",
       "      <td>False</td>\n",
       "      <td>724</td>\n",
       "      <td>7</td>\n",
       "      <td>67</td>\n",
       "      <td>2012</td>\n",
       "      <td>0</td>\n",
       "      <td>2012</td>\n",
       "      <td>12</td>\n",
       "    </tr>\n",
       "    <tr>\n",
       "      <th>4</th>\n",
       "      <td>4</td>\n",
       "      <td>8951608</td>\n",
       "      <td>2012-12-31 21:30:00</td>\n",
       "      <td>STREET</td>\n",
       "      <td>0</td>\n",
       "      <td>False</td>\n",
       "      <td>211</td>\n",
       "      <td>2</td>\n",
       "      <td>35</td>\n",
       "      <td>2012</td>\n",
       "      <td>0</td>\n",
       "      <td>2012</td>\n",
       "      <td>12</td>\n",
       "    </tr>\n",
       "    <tr>\n",
       "      <th>5</th>\n",
       "      <td>5</td>\n",
       "      <td>8950793</td>\n",
       "      <td>2012-12-31 20:30:00</td>\n",
       "      <td>STREET</td>\n",
       "      <td>1</td>\n",
       "      <td>False</td>\n",
       "      <td>2521</td>\n",
       "      <td>25</td>\n",
       "      <td>19</td>\n",
       "      <td>2012</td>\n",
       "      <td>0</td>\n",
       "      <td>2012</td>\n",
       "      <td>12</td>\n",
       "    </tr>\n",
       "    <tr>\n",
       "      <th>6</th>\n",
       "      <td>6</td>\n",
       "      <td>8950760</td>\n",
       "      <td>2012-12-31 20:10:00</td>\n",
       "      <td>STREET</td>\n",
       "      <td>0</td>\n",
       "      <td>False</td>\n",
       "      <td>423</td>\n",
       "      <td>4</td>\n",
       "      <td>48</td>\n",
       "      <td>2012</td>\n",
       "      <td>0</td>\n",
       "      <td>2012</td>\n",
       "      <td>12</td>\n",
       "    </tr>\n",
       "    <tr>\n",
       "      <th>7</th>\n",
       "      <td>7</td>\n",
       "      <td>8951611</td>\n",
       "      <td>2012-12-31 20:00:00</td>\n",
       "      <td>STREET</td>\n",
       "      <td>0</td>\n",
       "      <td>False</td>\n",
       "      <td>231</td>\n",
       "      <td>2</td>\n",
       "      <td>40</td>\n",
       "      <td>2012</td>\n",
       "      <td>0</td>\n",
       "      <td>2012</td>\n",
       "      <td>12</td>\n",
       "    </tr>\n",
       "    <tr>\n",
       "      <th>8</th>\n",
       "      <td>8</td>\n",
       "      <td>8951802</td>\n",
       "      <td>2012-12-31 19:00:00</td>\n",
       "      <td>STREET</td>\n",
       "      <td>1</td>\n",
       "      <td>False</td>\n",
       "      <td>1021</td>\n",
       "      <td>10</td>\n",
       "      <td>29</td>\n",
       "      <td>2012</td>\n",
       "      <td>0</td>\n",
       "      <td>2012</td>\n",
       "      <td>12</td>\n",
       "    </tr>\n",
       "    <tr>\n",
       "      <th>9</th>\n",
       "      <td>9</td>\n",
       "      <td>8950706</td>\n",
       "      <td>2012-12-31 18:00:00</td>\n",
       "      <td>STREET</td>\n",
       "      <td>0</td>\n",
       "      <td>False</td>\n",
       "      <td>1215</td>\n",
       "      <td>12</td>\n",
       "      <td>24</td>\n",
       "      <td>2012</td>\n",
       "      <td>0</td>\n",
       "      <td>2012</td>\n",
       "      <td>12</td>\n",
       "    </tr>\n",
       "  </tbody>\n",
       "</table>\n",
       "</div>"
      ],
      "text/plain": [
       "   Unnamed: 0       ID                Date            LocationDescription  \\\n",
       "0           0  8951354 2012-12-31 23:15:00                         STREET   \n",
       "1           1  8951141 2012-12-31 22:00:00                         STREET   \n",
       "2           2  8952745 2012-12-31 22:00:00  RESIDENTIAL YARD (FRONT/BACK)   \n",
       "3           3  8952223 2012-12-31 22:00:00                         STREET   \n",
       "4           4  8951608 2012-12-31 21:30:00                         STREET   \n",
       "5           5  8950793 2012-12-31 20:30:00                         STREET   \n",
       "6           6  8950760 2012-12-31 20:10:00                         STREET   \n",
       "7           7  8951611 2012-12-31 20:00:00                         STREET   \n",
       "8           8  8951802 2012-12-31 19:00:00                         STREET   \n",
       "9           9  8950706 2012-12-31 18:00:00                         STREET   \n",
       "\n",
       "   Arrest  Domestic  Beat District CommunityArea  Year  weekday  year  Month  \n",
       "0       0     False   623        6            69  2012        0  2012     12  \n",
       "1       0     False  1213       12            24  2012        0  2012     12  \n",
       "2       0     False  1622       16            11  2012        0  2012     12  \n",
       "3       0     False   724        7            67  2012        0  2012     12  \n",
       "4       0     False   211        2            35  2012        0  2012     12  \n",
       "5       1     False  2521       25            19  2012        0  2012     12  \n",
       "6       0     False   423        4            48  2012        0  2012     12  \n",
       "7       0     False   231        2            40  2012        0  2012     12  \n",
       "8       1     False  1021       10            29  2012        0  2012     12  \n",
       "9       0     False  1215       12            24  2012        0  2012     12  "
      ]
     },
     "execution_count": 91,
     "metadata": {},
     "output_type": "execute_result"
    }
   ],
   "source": [
    "df.head(10)"
   ]
  },
  {
   "cell_type": "code",
   "execution_count": 71,
   "metadata": {},
   "outputs": [
    {
     "data": {
      "text/plain": [
       "<matplotlib.axes._subplots.AxesSubplot at 0x142baac37c8>"
      ]
     },
     "execution_count": 71,
     "metadata": {},
     "output_type": "execute_result"
    },
    {
     "data": {
      "image/png": "[encoded data removed]",
      "text/plain": [
       "<Figure size 720x720 with 1 Axes>"
      ]
     },
     "metadata": {
      "needs_background": "light"
     },
     "output_type": "display_data"
    }
   ],
   "source": [
    "plt.figure(figsize=(10,10))\n",
    "sns.countplot(x='Month',data=df,hue='Arrest')"
   ]
  },
  {
   "cell_type": "code",
   "execution_count": 100,
   "metadata": {},
   "outputs": [
    {
     "data": {
      "text/plain": [
       "0    176105\n",
       "1     15536\n",
       "Name: Arrest, dtype: int64"
      ]
     },
     "execution_count": 100,
     "metadata": {},
     "output_type": "execute_result"
    }
   ],
   "source": [
    "df.Arrest.value_counts().sort_index()"
   ]
  },
  {
   "cell_type": "code",
   "execution_count": 99,
   "metadata": {},
   "outputs": [
    {
     "data": {
      "text/plain": [
       "Year  Arrest\n",
       "2001  0         18517\n",
       "      1          2152\n",
       "2002  0         16638\n",
       "      1          2115\n",
       "2003  0         14859\n",
       "      1          1798\n",
       "2004  0         15169\n",
       "      1          1693\n",
       "2005  0         14956\n",
       "      1          1528\n",
       "2006  0         14796\n",
       "      1          1302\n",
       "2007  0         13068\n",
       "      1          1212\n",
       "2008  0         13425\n",
       "      1          1020\n",
       "2009  0         11327\n",
       "      1           840\n",
       "2010  0         14796\n",
       "      1           701\n",
       "2011  0         15012\n",
       "      1           625\n",
       "2012  0         13542\n",
       "      1           550\n",
       "Name: Arrest, dtype: int64"
      ]
     },
     "execution_count": 99,
     "metadata": {},
     "output_type": "execute_result"
    }
   ],
   "source": [
    "df.groupby('Year').Arrest.value_counts()"
   ]
  },
  {
   "cell_type": "code",
   "execution_count": 126,
   "metadata": {},
   "outputs": [
    {
     "data": {
      "text/plain": [
       "Month  Arrest\n",
       "1      0         14973\n",
       "       1          1352\n",
       "2      0         12726\n",
       "       1          1228\n",
       "3      0         14600\n",
       "       1          1295\n",
       "4      0         13818\n",
       "       1          1268\n",
       "5      0         15045\n",
       "       1          1253\n",
       "6      0         14646\n",
       "       1          1248\n",
       "7      0         15379\n",
       "       1          1354\n",
       "8      0         15001\n",
       "       1          1287\n",
       "9      0         14762\n",
       "       1          1247\n",
       "10     0         15596\n",
       "       1          1381\n",
       "11     0         14500\n",
       "       1          1265\n",
       "12     0         15059\n",
       "       1          1358\n",
       "Name: Arrest, dtype: int64"
      ]
     },
     "execution_count": 126,
     "metadata": {},
     "output_type": "execute_result"
    }
   ],
   "source": [
    "df.groupby('Month').Arrest.value_counts()"
   ]
  },
  {
   "cell_type": "code",
   "execution_count": 102,
   "metadata": {},
   "outputs": [
    {
     "data": {
      "text/plain": [
       "2001    20669\n",
       "2002    18753\n",
       "2004    16862\n",
       "2003    16657\n",
       "2005    16484\n",
       "2006    16098\n",
       "2011    15637\n",
       "2010    15497\n",
       "2008    14445\n",
       "2007    14280\n",
       "2012    14092\n",
       "2009    12167\n",
       "Name: Year, dtype: int64"
      ]
     },
     "execution_count": 102,
     "metadata": {},
     "output_type": "execute_result"
    }
   ],
   "source": [
    "df.Year.value_counts()"
   ]
  },
  {
   "cell_type": "code",
   "execution_count": 108,
   "metadata": {},
   "outputs": [
    {
     "data": {
      "text/plain": [
       "(array([ 0,  1,  2,  3,  4,  5,  6,  7,  8,  9, 10, 11, 12, 13, 14, 15, 16,\n",
       "        17, 18, 19, 20, 21, 22, 23, 24, 25, 26, 27, 28, 29, 30, 31, 32, 33,\n",
       "        34, 35, 36, 37, 38, 39, 40, 41, 42, 43, 44, 45, 46, 47, 48, 49, 50,\n",
       "        51, 52, 53, 54, 55, 56, 57, 58, 59, 60, 61, 62, 63, 64, 65, 66, 67,\n",
       "        68, 69, 70, 71, 72, 73, 74, 75, 76, 77]),\n",
       " <a list of 78 Text xticklabel objects>)"
      ]
     },
     "execution_count": 108,
     "metadata": {},
     "output_type": "execute_result"
    },
    {
     "data": {
      "image/png": "[encoded data removed]",
      "text/plain": [
       "<Figure size 1440x432 with 1 Axes>"
      ]
     },
     "metadata": {
      "needs_background": "light"
     },
     "output_type": "display_data"
    }
   ],
   "source": [
    "plt.figure(figsize=(20,6))\n",
    "sns.countplot(x='LocationDescription',data=df)\n",
    "plt.xticks(rotation=90)"
   ]
  },
  {
   "cell_type": "code",
   "execution_count": 110,
   "metadata": {},
   "outputs": [],
   "source": [
    "df['weekday']=df.Date.dt.weekday"
   ]
  },
  {
   "cell_type": "code",
   "execution_count": 113,
   "metadata": {},
   "outputs": [
    {
     "data": {
      "text/html": [
       "<div>\n",
       "<style scoped>\n",
       "    .dataframe tbody tr th:only-of-type {\n",
       "        vertical-align: middle;\n",
       "    }\n",
       "\n",
       "    .dataframe tbody tr th {\n",
       "        vertical-align: top;\n",
       "    }\n",
       "\n",
       "    .dataframe thead th {\n",
       "        text-align: right;\n",
       "    }\n",
       "</style>\n",
       "<table border=\"1\" class=\"dataframe\">\n",
       "  <thead>\n",
       "    <tr style=\"text-align: right;\">\n",
       "      <th></th>\n",
       "      <th>Unnamed: 0</th>\n",
       "      <th>ID</th>\n",
       "      <th>Date</th>\n",
       "      <th>LocationDescription</th>\n",
       "      <th>Arrest</th>\n",
       "      <th>Domestic</th>\n",
       "      <th>Beat</th>\n",
       "      <th>District</th>\n",
       "      <th>CommunityArea</th>\n",
       "      <th>Year</th>\n",
       "      <th>weekday</th>\n",
       "      <th>year</th>\n",
       "      <th>Month</th>\n",
       "    </tr>\n",
       "  </thead>\n",
       "  <tbody>\n",
       "    <tr>\n",
       "      <th>0</th>\n",
       "      <td>0</td>\n",
       "      <td>8951354</td>\n",
       "      <td>2012-12-31 23:15:00</td>\n",
       "      <td>STREET</td>\n",
       "      <td>0</td>\n",
       "      <td>False</td>\n",
       "      <td>623</td>\n",
       "      <td>6</td>\n",
       "      <td>69</td>\n",
       "      <td>2012</td>\n",
       "      <td>0</td>\n",
       "      <td>2012</td>\n",
       "      <td>12</td>\n",
       "    </tr>\n",
       "    <tr>\n",
       "      <th>1</th>\n",
       "      <td>1</td>\n",
       "      <td>8951141</td>\n",
       "      <td>2012-12-31 22:00:00</td>\n",
       "      <td>STREET</td>\n",
       "      <td>0</td>\n",
       "      <td>False</td>\n",
       "      <td>1213</td>\n",
       "      <td>12</td>\n",
       "      <td>24</td>\n",
       "      <td>2012</td>\n",
       "      <td>0</td>\n",
       "      <td>2012</td>\n",
       "      <td>12</td>\n",
       "    </tr>\n",
       "    <tr>\n",
       "      <th>2</th>\n",
       "      <td>2</td>\n",
       "      <td>8952745</td>\n",
       "      <td>2012-12-31 22:00:00</td>\n",
       "      <td>RESIDENTIAL YARD (FRONT/BACK)</td>\n",
       "      <td>0</td>\n",
       "      <td>False</td>\n",
       "      <td>1622</td>\n",
       "      <td>16</td>\n",
       "      <td>11</td>\n",
       "      <td>2012</td>\n",
       "      <td>0</td>\n",
       "      <td>2012</td>\n",
       "      <td>12</td>\n",
       "    </tr>\n",
       "    <tr>\n",
       "      <th>3</th>\n",
       "      <td>3</td>\n",
       "      <td>8952223</td>\n",
       "      <td>2012-12-31 22:00:00</td>\n",
       "      <td>STREET</td>\n",
       "      <td>0</td>\n",
       "      <td>False</td>\n",
       "      <td>724</td>\n",
       "      <td>7</td>\n",
       "      <td>67</td>\n",
       "      <td>2012</td>\n",
       "      <td>0</td>\n",
       "      <td>2012</td>\n",
       "      <td>12</td>\n",
       "    </tr>\n",
       "    <tr>\n",
       "      <th>4</th>\n",
       "      <td>4</td>\n",
       "      <td>8951608</td>\n",
       "      <td>2012-12-31 21:30:00</td>\n",
       "      <td>STREET</td>\n",
       "      <td>0</td>\n",
       "      <td>False</td>\n",
       "      <td>211</td>\n",
       "      <td>2</td>\n",
       "      <td>35</td>\n",
       "      <td>2012</td>\n",
       "      <td>0</td>\n",
       "      <td>2012</td>\n",
       "      <td>12</td>\n",
       "    </tr>\n",
       "  </tbody>\n",
       "</table>\n",
       "</div>"
      ],
      "text/plain": [
       "   Unnamed: 0       ID                Date            LocationDescription  \\\n",
       "0           0  8951354 2012-12-31 23:15:00                         STREET   \n",
       "1           1  8951141 2012-12-31 22:00:00                         STREET   \n",
       "2           2  8952745 2012-12-31 22:00:00  RESIDENTIAL YARD (FRONT/BACK)   \n",
       "3           3  8952223 2012-12-31 22:00:00                         STREET   \n",
       "4           4  8951608 2012-12-31 21:30:00                         STREET   \n",
       "\n",
       "   Arrest  Domestic  Beat District CommunityArea  Year  weekday  year  Month  \n",
       "0       0     False   623        6            69  2012        0  2012     12  \n",
       "1       0     False  1213       12            24  2012        0  2012     12  \n",
       "2       0     False  1622       16            11  2012        0  2012     12  \n",
       "3       0     False   724        7            67  2012        0  2012     12  \n",
       "4       0     False   211        2            35  2012        0  2012     12  "
      ]
     },
     "execution_count": 113,
     "metadata": {},
     "output_type": "execute_result"
    }
   ],
   "source": [
    "df.head()"
   ]
  },
  {
   "cell_type": "code",
   "execution_count": 118,
   "metadata": {},
   "outputs": [
    {
     "data": {
      "text/plain": [
       "LocationDescription                              weekday\n",
       "ABANDONED BUILDING                               1          2\n",
       "                                                 2          1\n",
       "                                                 5          1\n",
       "AIRPORT BUILDING NON-TERMINAL - NON-SECURE AREA  0          2\n",
       "                                                 3          1\n",
       "                                                           ..\n",
       "WAREHOUSE                                        0          2\n",
       "                                                 6          2\n",
       "                                                 1          1\n",
       "                                                 3          1\n",
       "                                                 5          1\n",
       "Name: weekday, Length: 418, dtype: int64"
      ]
     },
     "execution_count": 118,
     "metadata": {},
     "output_type": "execute_result"
    }
   ],
   "source": [
    "df.groupby('LocationDescription').weekday.value_counts()"
   ]
  },
  {
   "cell_type": "code",
   "execution_count": null,
   "metadata": {},
   "outputs": [],
   "source": [
    "plt.figure(figsize=(50,300))\n",
    "sns.countplot(x='LocationDescription',data=df,hue='weekday')\n",
    "plt.xticks(rotation=90)"
   ]
  },
  {
   "cell_type": "code",
   "execution_count": 121,
   "metadata": {},
   "outputs": [
    {
     "data": {
      "text/plain": [
       "4    28545\n",
       "5    27406\n",
       "2    27387\n",
       "0    27372\n",
       "1    27141\n",
       "3    27067\n",
       "6    26723\n",
       "Name: weekday, dtype: int64"
      ]
     },
     "execution_count": 121,
     "metadata": {},
     "output_type": "execute_result"
    }
   ],
   "source": [
    "df.weekday.value_counts()"
   ]
  },
  {
   "cell_type": "code",
   "execution_count": 124,
   "metadata": {},
   "outputs": [
    {
     "data": {
      "text/plain": [
       "STREET                                             156564\n",
       "PARKING LOT/GARAGE(NON.RESID.)                      14852\n",
       "OTHER                                                4573\n",
       "ALLEY                                                2308\n",
       "GAS STATION                                          2111\n",
       "DRIVEWAY - RESIDENTIAL                               1675\n",
       "RESIDENTIAL YARD (FRONT/BACK)                        1536\n",
       "RESIDENCE                                            1302\n",
       "RESIDENCE-GARAGE                                     1176\n",
       "VACANT LOT/LAND                                       985\n",
       "VEHICLE NON-COMMERCIAL                                817\n",
       "SIDEWALK                                              462\n",
       "CHA PARKING LOT/GROUNDS                               405\n",
       "AIRPORT/AIRCRAFT                                      363\n",
       "POLICE FACILITY/VEH PARKING LOT                       266\n",
       "PARK PROPERTY                                         255\n",
       "SCHOOL, PUBLIC, GROUNDS                               206\n",
       "APARTMENT                                             184\n",
       "SPORTS ARENA/STADIUM                                  166\n",
       "CTA GARAGE / OTHER PROPERTY                           148\n",
       "COMMERCIAL / BUSINESS OFFICE                          126\n",
       "HOTEL/MOTEL                                           124\n",
       "SCHOOL, PUBLIC, BUILDING                              114\n",
       "HOSPITAL BUILDING/GROUNDS                             101\n",
       "GROCERY FOOD STORE                                     80\n",
       "CHURCH/SYNAGOGUE/PLACE OF WORSHIP                      56\n",
       "RESTAURANT                                             49\n",
       "GOVERNMENT BUILDING/PROPERTY                           48\n",
       "COLLEGE/UNIVERSITY GROUNDS                             47\n",
       "CAR WASH                                               44\n",
       "CONSTRUCTION SITE                                      35\n",
       "SMALL RETAIL STORE                                     33\n",
       "OTHER RAILROAD PROP / TRAIN DEPOT                      28\n",
       "AIRPORT EXTERIOR - NON-SECURE AREA                     24\n",
       "VEHICLE-COMMERCIAL                                     23\n",
       "SCHOOL, PRIVATE, GROUNDS                               23\n",
       "DEPARTMENT STORE                                       22\n",
       "HIGHWAY/EXPRESSWAY                                     22\n",
       "NURSING HOME/RETIREMENT HOME                           21\n",
       "TAXICAB                                                21\n",
       "RESIDENCE PORCH/HALLWAY                                18\n",
       "MOVIE HOUSE/THEATER                                    18\n",
       "BAR OR TAVERN                                          17\n",
       "WAREHOUSE                                              17\n",
       "FACTORY/MANUFACTURING BUILDING                         16\n",
       "SCHOOL, PRIVATE, BUILDING                              14\n",
       "TAVERN/LIQUOR STORE                                    14\n",
       "AIRPORT PARKING LOT                                    11\n",
       "AIRPORT VENDING ESTABLISHMENT                          10\n",
       "ATHLETIC CLUB                                           9\n",
       "OTHER COMMERCIAL TRANSPORTATION                         8\n",
       "DRUG STORE                                              8\n",
       "BANK                                                    7\n",
       "CONVENIENCE STORE                                       7\n",
       "FOREST PRESERVE                                         6\n",
       "AIRPORT TERMINAL UPPER LEVEL - NON-SECURE AREA          5\n",
       "CHA APARTMENT                                           5\n",
       "DAY CARE CENTER                                         5\n",
       "FIRE STATION                                            5\n",
       "ABANDONED BUILDING                                      4\n",
       "LIBRARY                                                 4\n",
       "AIRPORT BUILDING NON-TERMINAL - NON-SECURE AREA         4\n",
       "SAVINGS AND LOAN                                        4\n",
       "BARBERSHOP                                              4\n",
       "LAKEFRONT/WATERFRONT/RIVERBANK                          4\n",
       "BOWLING ALLEY                                           3\n",
       "CLEANING STORE                                          3\n",
       "MEDICAL/DENTAL OFFICE                                   3\n",
       "CURRENCY EXCHANGE                                       2\n",
       "BRIDGE                                                  2\n",
       "COLLEGE/UNIVERSITY RESIDENCE HALL                       2\n",
       "NEWSSTAND                                               1\n",
       "CTA TRAIN                                               1\n",
       "APPLIANCE STORE                                         1\n",
       "JAIL / LOCK-UP FACILITY                                 1\n",
       "ANIMAL HOSPITAL                                         1\n",
       "AIRPORT EXTERIOR - SECURE AREA                          1\n",
       "AIRPORT BUILDING NON-TERMINAL - SECURE AREA             1\n",
       "Name: LocationDescription, dtype: int64"
      ]
     },
     "execution_count": 124,
     "metadata": {},
     "output_type": "execute_result"
    }
   ],
   "source": [
    "df.LocationDescription.value_counts()"
   ]
  },
  {
   "cell_type": "code",
   "execution_count": 123,
   "metadata": {},
   "outputs": [],
   "source": [
    "pd.set_option('display.max_rows',None)"
   ]
  },
  {
   "cell_type": "code",
   "execution_count": null,
   "metadata": {},
   "outputs": [],
   "source": []
  }
 ],
 "metadata": {
  "kernelspec": {
   "display_name": "Python 3",
   "language": "python",
   "name": "python3"
  },
  "language_info": {
   "codemirror_mode": {
    "name": "ipython",
    "version": 3
   },
   "file_extension": ".py",
   "mimetype": "text/x-python",
   "name": "python",
   "nbconvert_exporter": "python",
   "pygments_lexer": "ipython3",
   "version": "3.7.6"
  }
 },
 "nbformat": 4,
 "nbformat_minor": 4
}
